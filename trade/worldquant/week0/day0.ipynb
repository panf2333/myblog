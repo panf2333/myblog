{
 "cells": [
  {
   "cell_type": "code",
   "execution_count": 7,
   "id": "da9fe4f5",
   "metadata": {},
   "outputs": [
    {
     "name": "stdout",
     "output_type": "stream",
     "text": [
      "panf2333@gmail.com aMK&k+68gk^=rwW {'username': 'panf2333@gmail.com', 'password': 'aMK&k+68gk^=rwW'}\n",
      "201\n",
      "{'user': {'id': 'FP27330'}, 'token': {'expiry': 14400.0}, 'permissions': ['TUTORIAL']}\n"
     ]
    }
   ],
   "source": [
    "import requests\n",
    "import json\n",
    "from os.path import expanduser\n",
    "from requests.auth import HTTPBasicAuth\n",
    "\n",
    "path = expanduser('~/brain_credentials_copy.txt')\n",
    "with open(path) as f:\n",
    "    credentials = json.load(f)\n",
    "username,password = credentials['username'], credentials['password']\n",
    "print(username,password, credentials)\n",
    "# username = \"邮箱账号\"\n",
    "# password = \"密码\"\n",
    "\n",
    "sess =requests.Session()\n",
    "\n",
    "sess.auth = HTTPBasicAuth(username,password)\n",
    "\n",
    "response = sess.post('https://api.worldquantbrain.com/authentication')\n",
    "\n",
    "print(response.status_code)\n",
    "print(response.json()) "
   ]
  },
  {
   "cell_type": "code",
   "execution_count": 35,
   "id": "add94278",
   "metadata": {},
   "outputs": [],
   "source": [
    "simulation_data = {\n",
    "    'type':'REGULAR',\n",
    "    'settings':{\n",
    "        'instrumentType':'EQUITY',\n",
    "        'region':'USA',\n",
    "        'universe':'TOP3000',\n",
    "        'delay':1,\n",
    "        'decay':0,\n",
    "        'neutralization':'NONE',\n",
    "        'nanHandling':'OFF',\n",
    "        'language':'FASTEXPR',\n",
    "        'visualization':False\n",
    "    },\n",
    "    'regular': 'liabilities/assets'\n",
    "}"
   ]
  },
  {
   "cell_type": "code",
   "execution_count": 37,
   "id": "6f66f8a5",
   "metadata": {},
   "outputs": [
    {
     "name": "stdout",
     "output_type": "stream",
     "text": [
      "<Response [201]>\n",
      "{'Date': 'Wed, 20 Aug 2025 09:17:38 GMT', 'Content-Type': 'text/html; charset=UTF-8', 'Content-Length': '0', 'Connection': 'keep-alive', 'Retry-After': '2.5', 'Location': 'https://api.worldquantbrain.com/simulations/3ZFIOxc6O5djbfmbYtXT6Dk', 'Allow': 'POST, OPTIONS', 'X-Request-Id': '496dc17cd003456ea94913fe5baa4563', 'X-Frame-Options': 'SAMEORIGIN', 'Vary': 'Accept-Language, Cookie, Origin', 'Content-Language': 'en', 'Access-Control-Allow-Origin': 'https://platform.worldquantbrain.com', 'Access-Control-Allow-Credentials': 'true', 'Access-Control-Expose-Headers': 'Location,Retry-After', 'Strict-Transport-Security': 'max-age=31536000; includeSubDomains'}\n",
      "{'id': '3ZFIOxc6O5djbfmbYtXT6Dk', 'type': 'REGULAR', 'settings': {'instrumentType': 'EQUITY', 'region': 'USA', 'universe': 'TOP3000', 'delay': 1, 'decay': 0, 'neutralization': 'INDUSTRY', 'truncation': 0.08, 'pasteurization': 'ON', 'unitHandling': 'VERIFY', 'nanHandling': 'OFF', 'maxTrade': 'OFF', 'language': 'FASTEXPR', 'visualization': False}, 'regular': 'liabilities/assets', 'status': 'COMPLETE', 'alpha': 'wkb12PQ'}\n"
     ]
    }
   ],
   "source": [
    "from time import sleep\n",
    "\n",
    "sim_resp = sess.post(\n",
    "    'https://api.worldquantbrain.com/simulations',\n",
    "    json = simulation_data,\n",
    ")\n",
    "print(sim_resp)\n",
    "print(sim_resp.headers)\n",
    "sim_progress_url = sim_resp.headers['Location']\n",
    "\n",
    "while True:\n",
    "        sim_progress_resp =sess.get(sim_progress_url)\n",
    "        retry_after_sec = float(sim_progress_resp.headers.get(\"retry-After\",0))\n",
    "        if retry_after_sec == 0 :\n",
    "                break\n",
    "        sleep(retry_after_sec)\n",
    "\n",
    "alpha_id = sim_progress_resp.json()[\"alpha\"]\n",
    "\n",
    "print(sim_progress_resp.json())\n",
    "\n"
   ]
  },
  {
   "cell_type": "markdown",
   "id": "0ec4c75e",
   "metadata": {},
   "source": []
  }
 ],
 "metadata": {
  "kernelspec": {
   "display_name": "sky",
   "language": "python",
   "name": "python3"
  },
  "language_info": {
   "codemirror_mode": {
    "name": "ipython",
    "version": 3
   },
   "file_extension": ".py",
   "mimetype": "text/x-python",
   "name": "python",
   "nbconvert_exporter": "python",
   "pygments_lexer": "ipython3",
   "version": "3.10.17"
  }
 },
 "nbformat": 4,
 "nbformat_minor": 5
}
